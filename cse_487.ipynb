{
 "cells": [
  {
   "cell_type": "code",
   "execution_count": 1,
   "metadata": {},
   "outputs": [
    {
     "name": "stderr",
     "output_type": "stream",
     "text": [
      "/var/folders/q7/gqrkvw7x1w9fqtxv3bsjbxwm0000gn/T/ipykernel_34061/1519389577.py:1: DeprecationWarning: \n",
      "Pyarrow will become a required dependency of pandas in the next major release of pandas (pandas 3.0),\n",
      "(to allow more performant data types, such as the Arrow string type, and better interoperability with other libraries)\n",
      "but was not found to be installed on your system.\n",
      "If this would cause problems for you,\n",
      "please provide us feedback at https://github.com/pandas-dev/pandas/issues/54466\n",
      "        \n",
      "  import pandas as pd\n"
     ]
    }
   ],
   "source": [
    "import pandas as pd\n",
    "import numpy as np\n",
    "import matplotlib.pyplot as plt\n",
    "\n",
    "from scipy import stats"
   ]
  },
  {
   "cell_type": "code",
   "execution_count": 2,
   "metadata": {},
   "outputs": [
    {
     "name": "stdout",
     "output_type": "stream",
     "text": [
      "73268\n",
      "Employment                 object\n",
      "RemoteWork                 object\n",
      "EdLevel                    object\n",
      "YearsCodePro               object\n",
      "DevType                    object\n",
      "OrgSize                    object\n",
      "Country                    object\n",
      "LanguageHaveWorkedWith     object\n",
      "DatabaseHaveWorkedWith     object\n",
      "PlatformHaveWorkedWith     object\n",
      "ConvertedCompYearly       float64\n",
      "dtype: object\n"
     ]
    }
   ],
   "source": [
    "salary = pd.read_csv(\"survey_results_public.csv\")\n",
    "salary = salary[[\"Employment\",\"RemoteWork\" ,\"EdLevel\", \"YearsCodePro\", \"DevType\", \"OrgSize\", \"Country\",\"LanguageHaveWorkedWith\", \"DatabaseHaveWorkedWith\", \"PlatformHaveWorkedWith\",\"ConvertedCompYearly\"]]\n",
    "print(len(salary))\n",
    "print(salary.dtypes)"
   ]
  },
  {
   "cell_type": "code",
   "execution_count": 3,
   "metadata": {},
   "outputs": [
    {
     "name": "stdout",
     "output_type": "stream",
     "text": [
      "26687\n"
     ]
    }
   ],
   "source": [
    "# cleaning operation 2: drop all rows with missing data (\"NA\")\n",
    "salary = salary[pd.notna(salary[\"Employment\"])]\n",
    "salary = salary[pd.notna(salary[\"RemoteWork\"])]\n",
    "salary = salary[pd.notna(salary[\"EdLevel\"])]\n",
    "salary = salary[pd.notna(salary[\"YearsCodePro\"])]\n",
    "salary = salary[pd.notna(salary[\"DevType\"])]\n",
    "salary = salary[pd.notna(salary[\"OrgSize\"])]\n",
    "salary = salary[pd.notna(salary[\"Country\"])]\n",
    "salary = salary[pd.notna(salary[\"LanguageHaveWorkedWith\"])]\n",
    "salary = salary[pd.notna(salary[\"DatabaseHaveWorkedWith\"])]\n",
    "salary = salary[pd.notna(salary[\"PlatformHaveWorkedWith\"])]\n",
    "salary = salary[pd.notna(salary[\"ConvertedCompYearly\"])]\n",
    "print(len(salary))"
   ]
  },
  {
   "cell_type": "code",
   "execution_count": 4,
   "metadata": {},
   "outputs": [
    {
     "name": "stdout",
     "output_type": "stream",
     "text": [
      "21754\n"
     ]
    }
   ],
   "source": [
    "# cleaning operation 3: focus on data with full-time employment\n",
    "salary = salary[salary[\"Employment\"] == \"Employed, full-time\"]\n",
    "print(len(salary))"
   ]
  },
  {
   "cell_type": "code",
   "execution_count": 5,
   "metadata": {},
   "outputs": [
    {
     "name": "stdout",
     "output_type": "stream",
     "text": [
      "5633\n"
     ]
    }
   ],
   "source": [
    "# cleaning operation 4: focus on data in USA\n",
    "salary = salary[salary[\"Country\"] == \"United States of America\"]\n",
    "print(len(salary))"
   ]
  },
  {
   "cell_type": "code",
   "execution_count": 6,
   "metadata": {},
   "outputs": [
    {
     "name": "stdout",
     "output_type": "stream",
     "text": [
      "4901\n"
     ]
    }
   ],
   "source": [
    "# cleaning operation 5: focus on data for developers\n",
    "salary = salary[salary[\"DevType\"].str.contains(\"Developer\")]\n",
    "print(len(salary))"
   ]
  },
  {
   "cell_type": "code",
   "execution_count": 7,
   "metadata": {},
   "outputs": [
    {
     "name": "stdout",
     "output_type": "stream",
     "text": [
      "4827\n"
     ]
    }
   ],
   "source": [
    "# cleaning operation 6: drop invalid data\n",
    "salary = salary[salary[\"ConvertedCompYearly\"] > 50000]\n",
    "print(len(salary))"
   ]
  },
  {
   "cell_type": "code",
   "execution_count": 8,
   "metadata": {},
   "outputs": [
    {
     "name": "stdout",
     "output_type": "stream",
     "text": [
      "4827\n"
     ]
    }
   ],
   "source": [
    "# cleaning operation 7: make \"YearsCodePro\" contain only numeric values\n",
    "salary = salary.replace(\"Less than 1 year\",0)\n",
    "print(len(salary))"
   ]
  }
 ],
 "metadata": {
  "kernelspec": {
   "display_name": "Python 3",
   "language": "python",
   "name": "python3"
  },
  "language_info": {
   "codemirror_mode": {
    "name": "ipython",
    "version": 3
   },
   "file_extension": ".py",
   "mimetype": "text/x-python",
   "name": "python",
   "nbconvert_exporter": "python",
   "pygments_lexer": "ipython3",
   "version": "3.12.0"
  }
 },
 "nbformat": 4,
 "nbformat_minor": 2
}
