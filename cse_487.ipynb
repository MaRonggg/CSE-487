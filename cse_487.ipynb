{
 "cells": [
  {
   "cell_type": "code",
   "execution_count": 828,
   "metadata": {},
   "outputs": [],
   "source": [
    "import pandas as pd\n",
    "import numpy as np\n",
    "import matplotlib.pyplot as plt\n",
    "\n",
    "from scipy import stats"
   ]
  },
  {
   "cell_type": "code",
   "execution_count": 829,
   "metadata": {},
   "outputs": [
    {
     "name": "stdout",
     "output_type": "stream",
     "text": [
      "73268\n",
      "Employment                 object\n",
      "RemoteWork                 object\n",
      "EdLevel                    object\n",
      "YearsCodePro               object\n",
      "DevType                    object\n",
      "OrgSize                    object\n",
      "Country                    object\n",
      "LanguageHaveWorkedWith     object\n",
      "DatabaseHaveWorkedWith     object\n",
      "PlatformHaveWorkedWith     object\n",
      "ConvertedCompYearly       float64\n",
      "dtype: object\n"
     ]
    }
   ],
   "source": [
    "# Data Cleaning/Processing Operation 1: Extract the features that we want\n",
    "salary = pd.read_csv(\"survey_results_public.csv\")\n",
    "salary = salary[[\"Employment\",\"RemoteWork\" ,\"EdLevel\", \"YearsCodePro\", \"DevType\", \"OrgSize\", \"Country\",\"LanguageHaveWorkedWith\", \"DatabaseHaveWorkedWith\", \"PlatformHaveWorkedWith\",\"ConvertedCompYearly\"]]\n",
    "print(len(salary))\n",
    "print(salary.dtypes)"
   ]
  },
  {
   "cell_type": "code",
   "execution_count": 830,
   "metadata": {},
   "outputs": [
    {
     "name": "stdout",
     "output_type": "stream",
     "text": [
      "26687\n"
     ]
    }
   ],
   "source": [
    "# Data Cleaning/Processing Operation 2: Drop missing values\n",
    "# Drop all rows with \"NA\"\n",
    "salary = salary[pd.notna(salary[\"Employment\"])]\n",
    "salary = salary[pd.notna(salary[\"RemoteWork\"])]\n",
    "salary = salary[pd.notna(salary[\"EdLevel\"])]\n",
    "salary = salary[pd.notna(salary[\"YearsCodePro\"])]\n",
    "salary = salary[pd.notna(salary[\"DevType\"])]\n",
    "salary = salary[pd.notna(salary[\"OrgSize\"])]\n",
    "salary = salary[pd.notna(salary[\"Country\"])]\n",
    "salary = salary[pd.notna(salary[\"LanguageHaveWorkedWith\"])]\n",
    "salary = salary[pd.notna(salary[\"DatabaseHaveWorkedWith\"])]\n",
    "salary = salary[pd.notna(salary[\"PlatformHaveWorkedWith\"])]\n",
    "salary = salary[pd.notna(salary[\"ConvertedCompYearly\"])]\n",
    "print(len(salary))"
   ]
  },
  {
   "cell_type": "code",
   "execution_count": 831,
   "metadata": {},
   "outputs": [
    {
     "name": "stdout",
     "output_type": "stream",
     "text": [
      "21754\n"
     ]
    }
   ],
   "source": [
    "# Data Cleaning/Processing Operation 3: Focus on data we’re interested in\n",
    "# Step 1: focus on data with full-time employment\n",
    "salary = salary[salary[\"Employment\"] == \"Employed, full-time\"]\n",
    "print(len(salary))"
   ]
  },
  {
   "cell_type": "code",
   "execution_count": 832,
   "metadata": {},
   "outputs": [
    {
     "name": "stdout",
     "output_type": "stream",
     "text": [
      "5633\n"
     ]
    }
   ],
   "source": [
    "# Data Cleaning/Processing Operation 3: Focus on data we’re interested in\n",
    "# Step 2: focus on data in USA\n",
    "salary = salary[salary[\"Country\"] == \"United States of America\"]\n",
    "print(len(salary))"
   ]
  },
  {
   "cell_type": "code",
   "execution_count": 833,
   "metadata": {},
   "outputs": [
    {
     "name": "stdout",
     "output_type": "stream",
     "text": [
      "4626\n"
     ]
    },
    {
     "data": {
      "text/html": [
       "<div>\n",
       "<style scoped>\n",
       "    .dataframe tbody tr th:only-of-type {\n",
       "        vertical-align: middle;\n",
       "    }\n",
       "\n",
       "    .dataframe tbody tr th {\n",
       "        vertical-align: top;\n",
       "    }\n",
       "\n",
       "    .dataframe thead th {\n",
       "        text-align: right;\n",
       "    }\n",
       "</style>\n",
       "<table border=\"1\" class=\"dataframe\">\n",
       "  <thead>\n",
       "    <tr style=\"text-align: right;\">\n",
       "      <th></th>\n",
       "      <th>ConvertedCompYearly</th>\n",
       "    </tr>\n",
       "  </thead>\n",
       "  <tbody>\n",
       "    <tr>\n",
       "      <th>count</th>\n",
       "      <td>4.626000e+03</td>\n",
       "    </tr>\n",
       "    <tr>\n",
       "      <th>mean</th>\n",
       "      <td>3.916226e+05</td>\n",
       "    </tr>\n",
       "    <tr>\n",
       "      <th>std</th>\n",
       "      <td>1.240966e+06</td>\n",
       "    </tr>\n",
       "    <tr>\n",
       "      <th>min</th>\n",
       "      <td>4.900000e+01</td>\n",
       "    </tr>\n",
       "    <tr>\n",
       "      <th>25%</th>\n",
       "      <td>1.100000e+05</td>\n",
       "    </tr>\n",
       "    <tr>\n",
       "      <th>50%</th>\n",
       "      <td>1.500000e+05</td>\n",
       "    </tr>\n",
       "    <tr>\n",
       "      <th>75%</th>\n",
       "      <td>2.000000e+05</td>\n",
       "    </tr>\n",
       "    <tr>\n",
       "      <th>max</th>\n",
       "      <td>2.250000e+07</td>\n",
       "    </tr>\n",
       "  </tbody>\n",
       "</table>\n",
       "</div>"
      ],
      "text/plain": [
       "       ConvertedCompYearly\n",
       "count         4.626000e+03\n",
       "mean          3.916226e+05\n",
       "std           1.240966e+06\n",
       "min           4.900000e+01\n",
       "25%           1.100000e+05\n",
       "50%           1.500000e+05\n",
       "75%           2.000000e+05\n",
       "max           2.250000e+07"
      ]
     },
     "execution_count": 833,
     "metadata": {},
     "output_type": "execute_result"
    }
   ],
   "source": [
    "# Data Cleaning/Processing Operation 3: Focus on data we’re interested in\n",
    "# Step 3: focus on data for developers\n",
    "salary = salary[salary[\"DevType\"].str.contains(\"Developer, full-stack\") | salary[\"DevType\"].str.contains(\"Developer, front-end\") | salary[\"DevType\"].str.contains(\"Developer, back-end\")]\n",
    "print(len(salary))\n",
    "salary.describe()"
   ]
  },
  {
   "cell_type": "code",
   "execution_count": 834,
   "metadata": {},
   "outputs": [
    {
     "name": "stdout",
     "output_type": "stream",
     "text": [
      "4557\n"
     ]
    },
    {
     "data": {
      "text/html": [
       "<div>\n",
       "<style scoped>\n",
       "    .dataframe tbody tr th:only-of-type {\n",
       "        vertical-align: middle;\n",
       "    }\n",
       "\n",
       "    .dataframe tbody tr th {\n",
       "        vertical-align: top;\n",
       "    }\n",
       "\n",
       "    .dataframe thead th {\n",
       "        text-align: right;\n",
       "    }\n",
       "</style>\n",
       "<table border=\"1\" class=\"dataframe\">\n",
       "  <thead>\n",
       "    <tr style=\"text-align: right;\">\n",
       "      <th></th>\n",
       "      <th>ConvertedCompYearly</th>\n",
       "    </tr>\n",
       "  </thead>\n",
       "  <tbody>\n",
       "    <tr>\n",
       "      <th>count</th>\n",
       "      <td>4.557000e+03</td>\n",
       "    </tr>\n",
       "    <tr>\n",
       "      <th>mean</th>\n",
       "      <td>3.970594e+05</td>\n",
       "    </tr>\n",
       "    <tr>\n",
       "      <th>std</th>\n",
       "      <td>1.249534e+06</td>\n",
       "    </tr>\n",
       "    <tr>\n",
       "      <th>min</th>\n",
       "      <td>5.100000e+04</td>\n",
       "    </tr>\n",
       "    <tr>\n",
       "      <th>25%</th>\n",
       "      <td>1.100000e+05</td>\n",
       "    </tr>\n",
       "    <tr>\n",
       "      <th>50%</th>\n",
       "      <td>1.500000e+05</td>\n",
       "    </tr>\n",
       "    <tr>\n",
       "      <th>75%</th>\n",
       "      <td>2.000000e+05</td>\n",
       "    </tr>\n",
       "    <tr>\n",
       "      <th>max</th>\n",
       "      <td>2.250000e+07</td>\n",
       "    </tr>\n",
       "  </tbody>\n",
       "</table>\n",
       "</div>"
      ],
      "text/plain": [
       "       ConvertedCompYearly\n",
       "count         4.557000e+03\n",
       "mean          3.970594e+05\n",
       "std           1.249534e+06\n",
       "min           5.100000e+04\n",
       "25%           1.100000e+05\n",
       "50%           1.500000e+05\n",
       "75%           2.000000e+05\n",
       "max           2.250000e+07"
      ]
     },
     "execution_count": 834,
     "metadata": {},
     "output_type": "execute_result"
    }
   ],
   "source": [
    "# Data Cleaning/Processing Operation 4: Drop invalid values\n",
    "salary = salary[salary[\"ConvertedCompYearly\"] > 50000]\n",
    "print(len(salary))\n",
    "salary.describe()"
   ]
  },
  {
   "cell_type": "code",
   "execution_count": 835,
   "metadata": {},
   "outputs": [
    {
     "name": "stdout",
     "output_type": "stream",
     "text": [
      "Employment                 object\n",
      "RemoteWork                 object\n",
      "EdLevel                    object\n",
      "YearsCodePro               object\n",
      "DevType                    object\n",
      "OrgSize                    object\n",
      "Country                    object\n",
      "LanguageHaveWorkedWith     object\n",
      "DatabaseHaveWorkedWith     object\n",
      "PlatformHaveWorkedWith     object\n",
      "ConvertedCompYearly       float64\n",
      "dtype: object\n"
     ]
    }
   ],
   "source": [
    "print(salary.dtypes)"
   ]
  },
  {
   "cell_type": "code",
   "execution_count": 836,
   "metadata": {},
   "outputs": [
    {
     "name": "stdout",
     "output_type": "stream",
     "text": [
      "Employment                 object\n",
      "RemoteWork                 object\n",
      "EdLevel                    object\n",
      "YearsCodePro                int64\n",
      "DevType                    object\n",
      "OrgSize                    object\n",
      "Country                    object\n",
      "LanguageHaveWorkedWith     object\n",
      "DatabaseHaveWorkedWith     object\n",
      "PlatformHaveWorkedWith     object\n",
      "ConvertedCompYearly       float64\n",
      "dtype: object\n"
     ]
    }
   ],
   "source": [
    "# Data Cleaning/Processing Operation 5: Cleanup and formatting the number\n",
    "# Make \"YearsCodePro\" contain only numeric values\n",
    "salary = salary.replace(\"Less than 1 year\",0)\n",
    "salary = salary.replace(\"More than 50 years\",50)\n",
    "salary[\"YearsCodePro\"] = salary[\"YearsCodePro\"].apply(lambda x: int(x))\n",
    "print(salary.dtypes)"
   ]
  },
  {
   "cell_type": "code",
   "execution_count": 837,
   "metadata": {},
   "outputs": [
    {
     "name": "stdout",
     "output_type": "stream",
     "text": [
      "4557\n"
     ]
    }
   ],
   "source": [
    "# Data Cleaning/Processing Operation 6: Remove duplicate row \n",
    "salary = salary.drop_duplicates()\n",
    "print(len(salary))"
   ]
  },
  {
   "cell_type": "code",
   "execution_count": 838,
   "metadata": {},
   "outputs": [
    {
     "data": {
      "text/plain": [
       "Developer, full-stack                                                                                                                971\n",
       "Developer, back-end                                                                                                                  551\n",
       "Developer, full-stack;Developer, back-end                                                                                            189\n",
       "Developer, front-end;Developer, full-stack;Developer, back-end                                                                       179\n",
       "Developer, front-end                                                                                                                 119\n",
       "                                                                                                                                    ... \n",
       "Engineer, data;Developer, back-end;Blockchain                                                                                          1\n",
       "Engineer, data;Developer, full-stack;Developer, back-end;Engineering manager;Product manager;Senior Executive (C-Suite, VP, etc.)      1\n",
       "Developer, front-end;Developer, QA or test;Data or business analyst                                                                    1\n",
       "Developer, full-stack;Developer, mobile;Database administrator                                                                         1\n",
       "Engineer, site reliability;Developer, full-stack;DevOps specialist                                                                     1\n",
       "Name: DevType, Length: 1256, dtype: int64"
      ]
     },
     "execution_count": 838,
     "metadata": {},
     "output_type": "execute_result"
    }
   ],
   "source": [
    "salary[\"DevType\"].value_counts()"
   ]
  },
  {
   "cell_type": "code",
   "execution_count": 839,
   "metadata": {},
   "outputs": [],
   "source": [
    "# Data Cleaning/Processing Operation 7: Use one hot encoding to process the data\n",
    "# Use one hot encoding for frone-end, back-end and full-stack\n",
    "salary[\"frontEnd\"] = 0\n",
    "salary[\"frontEnd\"].mask((salary[\"DevType\"].str.contains(\"Developer, full-stack\")) | (salary[\"DevType\"].str.contains(\"Developer, front-end\")), 1, inplace=True)\n",
    "\n",
    "salary[\"backEnd\"] = 0\n",
    "salary[\"backEnd\"].mask((salary[\"DevType\"].str.contains(\"Developer, full-stack\")) | (salary[\"DevType\"].str.contains(\"Developer, back-end\")), 1, inplace=True)\n",
    "\n",
    "salary[\"FrontEnd\"] = 0\n",
    "salary[\"FrontEnd\"].mask((salary[\"frontEnd\"] == 1) & (salary[\"backEnd\"] == 0), 1, inplace=True)\n",
    "\n",
    "salary[\"BackEnd\"] = 0\n",
    "salary[\"BackEnd\"].mask((salary[\"frontEnd\"] == 0) & (salary[\"backEnd\"] == 1), 1, inplace=True)\n",
    "\n",
    "salary[\"FullStack\"] = 0\n",
    "salary[\"FullStack\"].mask((salary[\"frontEnd\"] == 1) & (salary[\"backEnd\"] == 1), 1, inplace=True)\n",
    "\n",
    "salary.drop(columns=[\"DevType\", \"frontEnd\", \"backEnd\"], inplace=True)"
   ]
  },
  {
   "cell_type": "code",
   "execution_count": 840,
   "metadata": {},
   "outputs": [
    {
     "data": {
      "text/plain": [
       "C#;HTML/CSS;JavaScript;SQL;TypeScript                            87\n",
       "C#;HTML/CSS;JavaScript;SQL                                       64\n",
       "C#;HTML/CSS;JavaScript;PowerShell;SQL;TypeScript                 56\n",
       "HTML/CSS;JavaScript;TypeScript                                   40\n",
       "HTML/CSS;JavaScript;PHP;SQL                                      33\n",
       "                                                                 ..\n",
       "Bash/Shell;Elixir;Groovy;HTML/CSS;Java;JavaScript;LISP;Python     1\n",
       "C#;HTML/CSS;JavaScript;PowerShell;Python;TypeScript               1\n",
       "Clojure;Haskell;HTML/CSS;JavaScript;TypeScript                    1\n",
       "C;C#;C++;JavaScript;PowerShell;Python;Rust;SQL                    1\n",
       "Bash/Shell;Groovy;HTML/CSS;Java;Python;Scala                      1\n",
       "Name: LanguageHaveWorkedWith, Length: 2711, dtype: int64"
      ]
     },
     "execution_count": 840,
     "metadata": {},
     "output_type": "execute_result"
    }
   ],
   "source": [
    "salary[\"LanguageHaveWorkedWith\"].value_counts()"
   ]
  },
  {
   "cell_type": "code",
   "execution_count": 841,
   "metadata": {},
   "outputs": [],
   "source": [
    "# Data Cleaning/Processing Operation 8: Processing text values into numerical values\n",
    "# Step 1: split “LanguageHaveWorkedWith”, create columns to keep track of the number of front-end languages, back-end languages, and system programming languages each person knows\n",
    "salary[\"Front-endLan\"] = 0\n",
    "salary[\"Back-endLan\"] = 0\n",
    "salary[\"SysProLan\"] = 0\n",
    "salary[\"LanguageHaveWorkedWith\"] = salary[\"LanguageHaveWorkedWith\"].apply(lambda x: x.split(\";\"))\n",
    "Front_end =[\"JavaScript\",\"HTML/CSS\", \"Swift\",\"TypeScript\",\"Kotlin\",\"Objective-C\",\"Dart\"]\n",
    "Back_end =[\"Ruby\", \"SQL\", \"Go\", \"Java\", \"Python\", \"Elixir\", \"Perl\", \"Groovy\", \"Scala\", \"Rust\", \"C#\", \"Erlang\", \"PHP\", \"Clojure\"]\n",
    "System =[\"Assembly\",\"C++\",\"C\",\"Rust\",\"Go\"]\n",
    "\n",
    "for num, people in salary.iterrows():\n",
    "    languages = people[\"LanguageHaveWorkedWith\"]\n",
    "    for language in languages:\n",
    "        if language in Front_end:\n",
    "            salary.at[num,\"Front-endLan\"] = salary.at[num,\"Front-endLan\"] +1\n",
    "        elif language in Back_end:\n",
    "            salary.at[num,\"Back-endLan\"] = salary.at[num,\"Back-endLan\"]+1\n",
    "        elif language in System:\n",
    "            salary.at[num,\"SysProLan\"] = salary.at[num,\"SysProLan\"]+1\n",
    "            \n",
    "salary.drop(columns=[\"LanguageHaveWorkedWith\"], inplace=True)  "
   ]
  },
  {
   "cell_type": "code",
   "execution_count": 842,
   "metadata": {},
   "outputs": [
    {
     "data": {
      "text/plain": [
       "Microsoft SQL Server                                                                   360\n",
       "PostgreSQL                                                                             358\n",
       "MySQL                                                                                  165\n",
       "PostgreSQL;Redis                                                                       140\n",
       "MySQL;PostgreSQL                                                                        93\n",
       "                                                                                      ... \n",
       "MariaDB;MongoDB;PostgreSQL;Redis                                                         1\n",
       "Microsoft SQL Server;MySQL;Oracle;Redis;SQLite                                           1\n",
       "DynamoDB;Elasticsearch;Microsoft SQL Server;Neo4j;Oracle;Redis                           1\n",
       "Cassandra;DynamoDB;MariaDB;MySQL;Redis;SQLite                                            1\n",
       "IBM DB2;Microsoft SQL Server;MongoDB;MySQL;Oracle;Firebase Realtime Database;SQLite      1\n",
       "Name: DatabaseHaveWorkedWith, Length: 947, dtype: int64"
      ]
     },
     "execution_count": 842,
     "metadata": {},
     "output_type": "execute_result"
    }
   ],
   "source": [
    "salary[\"DatabaseHaveWorkedWith\"].value_counts()"
   ]
  },
  {
   "cell_type": "code",
   "execution_count": 843,
   "metadata": {},
   "outputs": [],
   "source": [
    "# Data Cleaning/Processing Operation 8: Processing text values into numerical values\n",
    "# Step 2: counting databases have worked with \n",
    "salary[\"NumOfDatabasesHaveWorkedWith\"] = salary[\"DatabaseHaveWorkedWith\"].apply(lambda x: len(x.split(\";\")))\n",
    "\n",
    "salary.drop(columns=[\"DatabaseHaveWorkedWith\"], inplace=True)  "
   ]
  },
  {
   "cell_type": "code",
   "execution_count": 844,
   "metadata": {},
   "outputs": [
    {
     "data": {
      "text/plain": [
       "AWS                                                                            1288\n",
       "Microsoft Azure                                                                 558\n",
       "AWS;Microsoft Azure                                                             305\n",
       "AWS;Google Cloud                                                                220\n",
       "AWS;Heroku                                                                      153\n",
       "                                                                               ... \n",
       "AWS;DigitalOcean;Managed Hosting;OpenStack;OVH;VMware                             1\n",
       "Colocation;Google Cloud                                                           1\n",
       "AWS;DigitalOcean;Google Cloud;Heroku;Oracle Cloud Infrastructure;VMware           1\n",
       "AWS;DigitalOcean;Google Cloud;Linode;Microsoft Azure;VMware                       1\n",
       "Colocation;DigitalOcean;Google Cloud;Managed Hosting;Microsoft Azure;VMware       1\n",
       "Name: PlatformHaveWorkedWith, Length: 325, dtype: int64"
      ]
     },
     "execution_count": 844,
     "metadata": {},
     "output_type": "execute_result"
    }
   ],
   "source": [
    "salary[\"PlatformHaveWorkedWith\"].value_counts()"
   ]
  },
  {
   "cell_type": "code",
   "execution_count": 845,
   "metadata": {},
   "outputs": [],
   "source": [
    "# Data Cleaning/Processing Operation 8: Processing text values into numerical values\n",
    "# Step 3: counting platforms have worked with \n",
    "salary[\"NumOfPlatformsHaveWorkedWith\"] = salary[\"PlatformHaveWorkedWith\"].apply(lambda x: len(x.split(\";\")))\n",
    "\n",
    "salary.drop(columns=[\"PlatformHaveWorkedWith\"], inplace=True) "
   ]
  },
  {
   "cell_type": "code",
   "execution_count": 846,
   "metadata": {},
   "outputs": [
    {
     "data": {
      "text/html": [
       "<div>\n",
       "<style scoped>\n",
       "    .dataframe tbody tr th:only-of-type {\n",
       "        vertical-align: middle;\n",
       "    }\n",
       "\n",
       "    .dataframe tbody tr th {\n",
       "        vertical-align: top;\n",
       "    }\n",
       "\n",
       "    .dataframe thead th {\n",
       "        text-align: right;\n",
       "    }\n",
       "</style>\n",
       "<table border=\"1\" class=\"dataframe\">\n",
       "  <thead>\n",
       "    <tr style=\"text-align: right;\">\n",
       "      <th></th>\n",
       "      <th>YearsCodePro</th>\n",
       "      <th>FrontEnd</th>\n",
       "      <th>BackEnd</th>\n",
       "      <th>FullStack</th>\n",
       "      <th>Front-endLan</th>\n",
       "      <th>Back-endLan</th>\n",
       "      <th>SysProLan</th>\n",
       "      <th>NumOfDatabasesHaveWorkedWith</th>\n",
       "      <th>NumOfPlatformsHaveWorkedWith</th>\n",
       "      <th>ConvertedCompYearly</th>\n",
       "    </tr>\n",
       "  </thead>\n",
       "  <tbody>\n",
       "    <tr>\n",
       "      <th>count</th>\n",
       "      <td>4557.000000</td>\n",
       "      <td>4557.000000</td>\n",
       "      <td>4557.000000</td>\n",
       "      <td>4557.000000</td>\n",
       "      <td>4557.000000</td>\n",
       "      <td>4557.000000</td>\n",
       "      <td>4557.000000</td>\n",
       "      <td>4557.000000</td>\n",
       "      <td>4557.000000</td>\n",
       "      <td>4.557000e+03</td>\n",
       "    </tr>\n",
       "    <tr>\n",
       "      <th>mean</th>\n",
       "      <td>11.482993</td>\n",
       "      <td>0.042133</td>\n",
       "      <td>0.262014</td>\n",
       "      <td>0.695853</td>\n",
       "      <td>2.078780</td>\n",
       "      <td>2.584815</td>\n",
       "      <td>0.231073</td>\n",
       "      <td>2.719552</td>\n",
       "      <td>1.843318</td>\n",
       "      <td>3.970594e+05</td>\n",
       "    </tr>\n",
       "    <tr>\n",
       "      <th>std</th>\n",
       "      <td>8.941866</td>\n",
       "      <td>0.200915</td>\n",
       "      <td>0.439779</td>\n",
       "      <td>0.460096</td>\n",
       "      <td>1.169813</td>\n",
       "      <td>1.381433</td>\n",
       "      <td>0.594399</td>\n",
       "      <td>1.619649</td>\n",
       "      <td>1.092730</td>\n",
       "      <td>1.249534e+06</td>\n",
       "    </tr>\n",
       "    <tr>\n",
       "      <th>min</th>\n",
       "      <td>0.000000</td>\n",
       "      <td>0.000000</td>\n",
       "      <td>0.000000</td>\n",
       "      <td>0.000000</td>\n",
       "      <td>0.000000</td>\n",
       "      <td>0.000000</td>\n",
       "      <td>0.000000</td>\n",
       "      <td>1.000000</td>\n",
       "      <td>1.000000</td>\n",
       "      <td>5.100000e+04</td>\n",
       "    </tr>\n",
       "    <tr>\n",
       "      <th>25%</th>\n",
       "      <td>5.000000</td>\n",
       "      <td>0.000000</td>\n",
       "      <td>0.000000</td>\n",
       "      <td>0.000000</td>\n",
       "      <td>1.000000</td>\n",
       "      <td>2.000000</td>\n",
       "      <td>0.000000</td>\n",
       "      <td>1.000000</td>\n",
       "      <td>1.000000</td>\n",
       "      <td>1.100000e+05</td>\n",
       "    </tr>\n",
       "    <tr>\n",
       "      <th>50%</th>\n",
       "      <td>9.000000</td>\n",
       "      <td>0.000000</td>\n",
       "      <td>0.000000</td>\n",
       "      <td>1.000000</td>\n",
       "      <td>2.000000</td>\n",
       "      <td>2.000000</td>\n",
       "      <td>0.000000</td>\n",
       "      <td>2.000000</td>\n",
       "      <td>2.000000</td>\n",
       "      <td>1.500000e+05</td>\n",
       "    </tr>\n",
       "    <tr>\n",
       "      <th>75%</th>\n",
       "      <td>16.000000</td>\n",
       "      <td>0.000000</td>\n",
       "      <td>1.000000</td>\n",
       "      <td>1.000000</td>\n",
       "      <td>3.000000</td>\n",
       "      <td>3.000000</td>\n",
       "      <td>0.000000</td>\n",
       "      <td>4.000000</td>\n",
       "      <td>2.000000</td>\n",
       "      <td>2.000000e+05</td>\n",
       "    </tr>\n",
       "    <tr>\n",
       "      <th>max</th>\n",
       "      <td>50.000000</td>\n",
       "      <td>1.000000</td>\n",
       "      <td>1.000000</td>\n",
       "      <td>1.000000</td>\n",
       "      <td>6.000000</td>\n",
       "      <td>10.000000</td>\n",
       "      <td>3.000000</td>\n",
       "      <td>15.000000</td>\n",
       "      <td>11.000000</td>\n",
       "      <td>2.250000e+07</td>\n",
       "    </tr>\n",
       "  </tbody>\n",
       "</table>\n",
       "</div>"
      ],
      "text/plain": [
       "       YearsCodePro     FrontEnd      BackEnd    FullStack  Front-endLan  \\\n",
       "count   4557.000000  4557.000000  4557.000000  4557.000000   4557.000000   \n",
       "mean      11.482993     0.042133     0.262014     0.695853      2.078780   \n",
       "std        8.941866     0.200915     0.439779     0.460096      1.169813   \n",
       "min        0.000000     0.000000     0.000000     0.000000      0.000000   \n",
       "25%        5.000000     0.000000     0.000000     0.000000      1.000000   \n",
       "50%        9.000000     0.000000     0.000000     1.000000      2.000000   \n",
       "75%       16.000000     0.000000     1.000000     1.000000      3.000000   \n",
       "max       50.000000     1.000000     1.000000     1.000000      6.000000   \n",
       "\n",
       "       Back-endLan    SysProLan  NumOfDatabasesHaveWorkedWith  \\\n",
       "count  4557.000000  4557.000000                   4557.000000   \n",
       "mean      2.584815     0.231073                      2.719552   \n",
       "std       1.381433     0.594399                      1.619649   \n",
       "min       0.000000     0.000000                      1.000000   \n",
       "25%       2.000000     0.000000                      1.000000   \n",
       "50%       2.000000     0.000000                      2.000000   \n",
       "75%       3.000000     0.000000                      4.000000   \n",
       "max      10.000000     3.000000                     15.000000   \n",
       "\n",
       "       NumOfPlatformsHaveWorkedWith  ConvertedCompYearly  \n",
       "count                   4557.000000         4.557000e+03  \n",
       "mean                       1.843318         3.970594e+05  \n",
       "std                        1.092730         1.249534e+06  \n",
       "min                        1.000000         5.100000e+04  \n",
       "25%                        1.000000         1.100000e+05  \n",
       "50%                        2.000000         1.500000e+05  \n",
       "75%                        2.000000         2.000000e+05  \n",
       "max                       11.000000         2.250000e+07  "
      ]
     },
     "execution_count": 846,
     "metadata": {},
     "output_type": "execute_result"
    }
   ],
   "source": [
    "# Data Cleaning/Processing Operation 9: Rearrange the column\n",
    "salary = salary[[\"Country\", \"EdLevel\", \"YearsCodePro\", \"Employment\", \"RemoteWork\", \"OrgSize\", \"FrontEnd\", \"BackEnd\", \"FullStack\", \"Front-endLan\", \"Back-endLan\", \"SysProLan\", \"NumOfDatabasesHaveWorkedWith\", \"NumOfPlatformsHaveWorkedWith\", \"ConvertedCompYearly\"]]\n",
    "salary.describe()"
   ]
  },
  {
   "cell_type": "code",
   "execution_count": 847,
   "metadata": {},
   "outputs": [
    {
     "data": {
      "text/plain": [
       "<AxesSubplot:xlabel='YearsCodePro', ylabel='ConvertedCompYearly'>"
      ]
     },
     "execution_count": 847,
     "metadata": {},
     "output_type": "execute_result"
    },
    {
     "data": {
      "image/png": "[encoded data removed]",
      "text/plain": [
       "<Figure size 432x288 with 1 Axes>"
      ]
     },
     "metadata": {
      "needs_background": "light"
     },
     "output_type": "display_data"
    }
   ],
   "source": [
    "salary.plot.scatter(x=\"YearsCodePro\", y=\"ConvertedCompYearly\")"
   ]
  },
  {
   "cell_type": "code",
   "execution_count": 848,
   "metadata": {},
   "outputs": [
    {
     "data": {
      "text/plain": [
       "<AxesSubplot:xlabel='YearsCodePro', ylabel='ConvertedCompYearly'>"
      ]
     },
     "execution_count": 848,
     "metadata": {},
     "output_type": "execute_result"
    },
    {
     "data": {
      "image/png": "[encoded data removed]",
      "text/plain": [
       "<Figure size 432x288 with 1 Axes>"
      ]
     },
     "metadata": {
      "needs_background": "light"
     },
     "output_type": "display_data"
    }
   ],
   "source": [
    "# Data Cleaning/Processing Operation 10: Check outlier\n",
    "# Step 1: remove data with annual salary >= 5,000,000\n",
    "salary = salary[salary[\"ConvertedCompYearly\"] < 5000000]\n",
    "salary.plot.scatter(x=\"YearsCodePro\", y=\"ConvertedCompYearly\")"
   ]
  },
  {
   "cell_type": "code",
   "execution_count": 849,
   "metadata": {},
   "outputs": [
    {
     "data": {
      "text/plain": [
       "<AxesSubplot:xlabel='YearsCodePro', ylabel='ConvertedCompYearly'>"
      ]
     },
     "execution_count": 849,
     "metadata": {},
     "output_type": "execute_result"
    },
    {
     "data": {
      "image/png": "[encoded data removed]",
      "text/plain": [
       "<Figure size 432x288 with 1 Axes>"
      ]
     },
     "metadata": {
      "needs_background": "light"
     },
     "output_type": "display_data"
    }
   ],
   "source": [
    "# Data Cleaning/Processing Operation 10: Check outlier\n",
    "# Step 2: remove data with annual salary >= 1,000,000\n",
    "salary = salary[salary[\"ConvertedCompYearly\"] < 1000000]\n",
    "salary.plot.scatter(x=\"YearsCodePro\", y=\"ConvertedCompYearly\")"
   ]
  },
  {
   "cell_type": "code",
   "execution_count": 851,
   "metadata": {},
   "outputs": [
    {
     "data": {
      "text/html": [
       "<div>\n",
       "<style scoped>\n",
       "    .dataframe tbody tr th:only-of-type {\n",
       "        vertical-align: middle;\n",
       "    }\n",
       "\n",
       "    .dataframe tbody tr th {\n",
       "        vertical-align: top;\n",
       "    }\n",
       "\n",
       "    .dataframe thead th {\n",
       "        text-align: right;\n",
       "    }\n",
       "</style>\n",
       "<table border=\"1\" class=\"dataframe\">\n",
       "  <thead>\n",
       "    <tr style=\"text-align: right;\">\n",
       "      <th></th>\n",
       "      <th>YearsCodePro</th>\n",
       "      <th>FrontEnd</th>\n",
       "      <th>BackEnd</th>\n",
       "      <th>FullStack</th>\n",
       "      <th>Front-endLan</th>\n",
       "      <th>Back-endLan</th>\n",
       "      <th>SysProLan</th>\n",
       "      <th>NumOfDatabasesHaveWorkedWith</th>\n",
       "      <th>NumOfPlatformsHaveWorkedWith</th>\n",
       "      <th>ConvertedCompYearly</th>\n",
       "    </tr>\n",
       "  </thead>\n",
       "  <tbody>\n",
       "    <tr>\n",
       "      <th>count</th>\n",
       "      <td>4076.000000</td>\n",
       "      <td>4076.000000</td>\n",
       "      <td>4076.000000</td>\n",
       "      <td>4076.000000</td>\n",
       "      <td>4076.000000</td>\n",
       "      <td>4076.000000</td>\n",
       "      <td>4076.000000</td>\n",
       "      <td>4076.000000</td>\n",
       "      <td>4076.000000</td>\n",
       "      <td>4076.000000</td>\n",
       "    </tr>\n",
       "    <tr>\n",
       "      <th>mean</th>\n",
       "      <td>11.006869</td>\n",
       "      <td>0.045388</td>\n",
       "      <td>0.253435</td>\n",
       "      <td>0.701178</td>\n",
       "      <td>2.105005</td>\n",
       "      <td>2.566241</td>\n",
       "      <td>0.217370</td>\n",
       "      <td>2.716634</td>\n",
       "      <td>1.848135</td>\n",
       "      <td>149451.294652</td>\n",
       "    </tr>\n",
       "    <tr>\n",
       "      <th>std</th>\n",
       "      <td>8.197528</td>\n",
       "      <td>0.208178</td>\n",
       "      <td>0.435031</td>\n",
       "      <td>0.457798</td>\n",
       "      <td>1.160184</td>\n",
       "      <td>1.374180</td>\n",
       "      <td>0.575024</td>\n",
       "      <td>1.624182</td>\n",
       "      <td>1.092865</td>\n",
       "      <td>55819.183175</td>\n",
       "    </tr>\n",
       "    <tr>\n",
       "      <th>min</th>\n",
       "      <td>0.000000</td>\n",
       "      <td>0.000000</td>\n",
       "      <td>0.000000</td>\n",
       "      <td>0.000000</td>\n",
       "      <td>0.000000</td>\n",
       "      <td>0.000000</td>\n",
       "      <td>0.000000</td>\n",
       "      <td>1.000000</td>\n",
       "      <td>1.000000</td>\n",
       "      <td>51000.000000</td>\n",
       "    </tr>\n",
       "    <tr>\n",
       "      <th>25%</th>\n",
       "      <td>5.000000</td>\n",
       "      <td>0.000000</td>\n",
       "      <td>0.000000</td>\n",
       "      <td>0.000000</td>\n",
       "      <td>1.000000</td>\n",
       "      <td>2.000000</td>\n",
       "      <td>0.000000</td>\n",
       "      <td>1.000000</td>\n",
       "      <td>1.000000</td>\n",
       "      <td>108918.750000</td>\n",
       "    </tr>\n",
       "    <tr>\n",
       "      <th>50%</th>\n",
       "      <td>9.000000</td>\n",
       "      <td>0.000000</td>\n",
       "      <td>0.000000</td>\n",
       "      <td>1.000000</td>\n",
       "      <td>2.000000</td>\n",
       "      <td>2.000000</td>\n",
       "      <td>0.000000</td>\n",
       "      <td>2.000000</td>\n",
       "      <td>2.000000</td>\n",
       "      <td>140000.000000</td>\n",
       "    </tr>\n",
       "    <tr>\n",
       "      <th>75%</th>\n",
       "      <td>16.000000</td>\n",
       "      <td>0.000000</td>\n",
       "      <td>1.000000</td>\n",
       "      <td>1.000000</td>\n",
       "      <td>3.000000</td>\n",
       "      <td>3.000000</td>\n",
       "      <td>0.000000</td>\n",
       "      <td>4.000000</td>\n",
       "      <td>2.000000</td>\n",
       "      <td>180000.000000</td>\n",
       "    </tr>\n",
       "    <tr>\n",
       "      <th>max</th>\n",
       "      <td>36.000000</td>\n",
       "      <td>1.000000</td>\n",
       "      <td>1.000000</td>\n",
       "      <td>1.000000</td>\n",
       "      <td>6.000000</td>\n",
       "      <td>10.000000</td>\n",
       "      <td>3.000000</td>\n",
       "      <td>15.000000</td>\n",
       "      <td>11.000000</td>\n",
       "      <td>345000.000000</td>\n",
       "    </tr>\n",
       "  </tbody>\n",
       "</table>\n",
       "</div>"
      ],
      "text/plain": [
       "       YearsCodePro     FrontEnd      BackEnd    FullStack  Front-endLan  \\\n",
       "count   4076.000000  4076.000000  4076.000000  4076.000000   4076.000000   \n",
       "mean      11.006869     0.045388     0.253435     0.701178      2.105005   \n",
       "std        8.197528     0.208178     0.435031     0.457798      1.160184   \n",
       "min        0.000000     0.000000     0.000000     0.000000      0.000000   \n",
       "25%        5.000000     0.000000     0.000000     0.000000      1.000000   \n",
       "50%        9.000000     0.000000     0.000000     1.000000      2.000000   \n",
       "75%       16.000000     0.000000     1.000000     1.000000      3.000000   \n",
       "max       36.000000     1.000000     1.000000     1.000000      6.000000   \n",
       "\n",
       "       Back-endLan    SysProLan  NumOfDatabasesHaveWorkedWith  \\\n",
       "count  4076.000000  4076.000000                   4076.000000   \n",
       "mean      2.566241     0.217370                      2.716634   \n",
       "std       1.374180     0.575024                      1.624182   \n",
       "min       0.000000     0.000000                      1.000000   \n",
       "25%       2.000000     0.000000                      1.000000   \n",
       "50%       2.000000     0.000000                      2.000000   \n",
       "75%       3.000000     0.000000                      4.000000   \n",
       "max      10.000000     3.000000                     15.000000   \n",
       "\n",
       "       NumOfPlatformsHaveWorkedWith  ConvertedCompYearly  \n",
       "count                   4076.000000          4076.000000  \n",
       "mean                       1.848135        149451.294652  \n",
       "std                        1.092865         55819.183175  \n",
       "min                        1.000000         51000.000000  \n",
       "25%                        1.000000        108918.750000  \n",
       "50%                        2.000000        140000.000000  \n",
       "75%                        2.000000        180000.000000  \n",
       "max                       11.000000        345000.000000  "
      ]
     },
     "execution_count": 851,
     "metadata": {},
     "output_type": "execute_result"
    },
    {
     "data": {
      "image/png": "[encoded data removed]",
      "text/plain": [
       "<Figure size 432x288 with 1 Axes>"
      ]
     },
     "metadata": {
      "needs_background": "light"
     },
     "output_type": "display_data"
    }
   ],
   "source": [
    "# Data Cleaning/Processing Operation 10: Check outlier\n",
    "# Step 3: filter out data more than 3 std devs from mean\n",
    "salary = salary[(np.abs(stats.zscore(salary[[\"YearsCodePro\", \"ConvertedCompYearly\"]])) < 3).all(axis=1)]\n",
    "salary.plot.scatter(x=\"YearsCodePro\", y=\"ConvertedCompYearly\")\n",
    "salary.describe()"
   ]
  }
 ],
 "metadata": {
  "kernelspec": {
   "display_name": "Python 3",
   "language": "python",
   "name": "python3"
  },
  "language_info": {
   "codemirror_mode": {
    "name": "ipython",
    "version": 3
   },
   "file_extension": ".py",
   "mimetype": "text/x-python",
   "name": "python",
   "nbconvert_exporter": "python",
   "pygments_lexer": "ipython3",
   "version": "3.8.0"
  }
 },
 "nbformat": 4,
 "nbformat_minor": 2
}
