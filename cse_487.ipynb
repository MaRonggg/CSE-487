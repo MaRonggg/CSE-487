{
 "cells": [
  {
   "cell_type": "code",
   "execution_count": null,
   "metadata": {},
   "outputs": [],
   "source": [
    "import pandas as pd\n",
    "import numpy as np\n",
    "import matplotlib.pyplot as plt\n",
    "\n",
    "from scipy import stats"
   ]
  },
  {
   "cell_type": "code",
   "execution_count": null,
   "metadata": {},
   "outputs": [],
   "source": [
    "salary = pd.read_csv(\"survey_results_public.csv\")\n",
    "salary = salary[[\"Employment\",\"RemoteWork\" ,\"EdLevel\", \"YearsCodePro\", \"DevType\", \"OrgSize\", \"Country\",\"LanguageHaveWorkedWith\", \"DatabaseHaveWorkedWith\", \"PlatformHaveWorkedWith\",\"ConvertedCompYearly\"]]\n",
    "print(len(salary))\n",
    "print(salary.dtypes)"
   ]
  },
  {
   "cell_type": "code",
   "execution_count": null,
   "metadata": {},
   "outputs": [],
   "source": [
    "# cleaning operation 2: drop all rows with missing data (\"NA\")\n",
    "salary = salary[pd.notna(salary[\"Employment\"])]\n",
    "salary = salary[pd.notna(salary[\"RemoteWork\"])]\n",
    "salary = salary[pd.notna(salary[\"EdLevel\"])]\n",
    "salary = salary[pd.notna(salary[\"YearsCodePro\"])]\n",
    "salary = salary[pd.notna(salary[\"DevType\"])]\n",
    "salary = salary[pd.notna(salary[\"OrgSize\"])]\n",
    "salary = salary[pd.notna(salary[\"Country\"])]\n",
    "salary = salary[pd.notna(salary[\"LanguageHaveWorkedWith\"])]\n",
    "salary = salary[pd.notna(salary[\"DatabaseHaveWorkedWith\"])]\n",
    "salary = salary[pd.notna(salary[\"PlatformHaveWorkedWith\"])]\n",
    "salary = salary[pd.notna(salary[\"ConvertedCompYearly\"])]\n",
    "print(len(salary))"
   ]
  },
  {
   "cell_type": "code",
   "execution_count": null,
   "metadata": {},
   "outputs": [],
   "source": [
    "# cleaning operation 3: focus on data with full-time employment\n",
    "salary = salary[salary[\"Employment\"] == \"Employed, full-time\"]\n",
    "print(len(salary))"
   ]
  },
  {
   "cell_type": "code",
   "execution_count": null,
   "metadata": {},
   "outputs": [],
   "source": [
    "# cleaning operation 4: focus on data in USA\n",
    "salary = salary[salary[\"Country\"] == \"United States of America\"]\n",
    "print(len(salary))"
   ]
  },
  {
   "cell_type": "code",
   "execution_count": null,
   "metadata": {},
   "outputs": [],
   "source": [
    "# cleaning operation 5: focus on data for developers\n",
    "salary = salary[salary[\"DevType\"].str.contains(\"Developer\")]\n",
    "print(len(salary))"
   ]
  },
  {
   "cell_type": "code",
   "execution_count": null,
   "metadata": {},
   "outputs": [],
   "source": [
    "# cleaning operation 6: drop invalid data\n",
    "salary = salary[salary[\"ConvertedCompYearly\"] > 50000]\n",
    "print(len(salary))"
   ]
  },
  {
   "cell_type": "code",
   "execution_count": null,
   "metadata": {},
   "outputs": [],
   "source": [
    "# cleaning operation 7: make \"YearsCodePro\" contain only numeric values\n",
    "salary = salary.replace(\"Less than 1 year\",0)\n",
    "print(len(salary))"
   ]
  },
  {
   "cell_type": "code",
   "execution_count": null,
   "metadata": {},
   "outputs": [],
   "source": [
    "# cleaning operation 8: drop duplicated row \n",
    "salary = salary.drop_duplicates()\n",
    "print(len(salary))"
   ]
  },
  {
   "cell_type": "code",
   "execution_count": null,
   "metadata": {},
   "outputs": [],
   "source": [
    "# cleaning operation 9: rearrange the column\n",
    "salary = salary[[\"Country\", \"EdLevel\", \"YearsCodePro\",\"Employment\",\"RemoteWork\", \"OrgSize\", \"DevType\", \"LanguageHaveWorkedWith\", \"DatabaseHaveWorkedWith\", \"PlatformHaveWorkedWith\",\"ConvertedCompYearly\"]]\n",
    "print(len(salary))"
   ]
  },
  {
   "cell_type": "code",
   "execution_count": null,
   "metadata": {},
   "outputs": [],
   "source": [
    "# cleaning operation 10: use one hot encoding for frone-end, back-end and full-stack\n",
    "\n",
    "salary[\"frontEnd\"] = 0\n",
    "salary[\"frontEnd\"].mask((salary[\"DevType\"].str.contains(\"Developer, full-stack\")) | (salary[\"DevType\"].str.contains(\"Developer, front-end\")), 1, inplace=True)\n",
    "\n",
    "salary[\"backEnd\"] = 0\n",
    "salary[\"backEnd\"].mask((salary[\"DevType\"].str.contains(\"Developer, full-stack\")) | (salary[\"DevType\"].str.contains(\"Developer, back-end\")), 1, inplace=True)\n",
    "\n",
    "salary[\"FrontEnd\"] = 0\n",
    "salary[\"FrontEnd\"].mask((salary[\"frontEnd\"] == 1) & (salary[\"backEnd\"] == 0), 1, inplace=True)\n",
    "\n",
    "salary[\"BackEnd\"] = 0\n",
    "salary[\"BackEnd\"].mask((salary[\"frontEnd\"] == 0) & (salary[\"backEnd\"] == 1), 1, inplace=True)\n",
    "\n",
    "salary[\"FullStack\"] = 0\n",
    "salary[\"FullStack\"].mask((salary[\"frontEnd\"] == 1) & (salary[\"backEnd\"] == 1), 1, inplace=True)\n",
    "\n",
    "salary.drop(columns=[\"frontEnd\", \"backEnd\"], inplace=True)\n",
    "\n",
    "salary = salary[[\"Country\", \"EdLevel\", \"YearsCodePro\",\"Employment\",\"RemoteWork\", \"OrgSize\", \"DevType\", \"FrontEnd\", \"BackEnd\", \"FullStack\", \"LanguageHaveWorkedWith\", \"DatabaseHaveWorkedWith\", \"PlatformHaveWorkedWith\",\"ConvertedCompYearly\"]]\n",
    "salary.drop(columns=[\"DevType\"], inplace=True)  "
   ]
  },
  {
   "cell_type": "code",
   "execution_count": null,
   "metadata": {},
   "outputs": [],
   "source": [
    "# cleaning operation 11: split “LanguageHaveWorkedWith”, create columns to keep track of the number of front-end languages, back-end languages, and system programming languages each person knows\n",
    "salary[\"Front-endLan\"] = 0\n",
    "salary[\"Back-endLan\"] = 0\n",
    "salary[\"SysProLan\"] = 0\n",
    "salary[\"LanguageHaveWorkedWith\"] = salary[\"LanguageHaveWorkedWith\"].str.split(pat=\";\")\n",
    "Front_end =[\"JavaScript\",\"HTML/CSS\", \"Swift\",\"TypeScript\",\"Kotlin\",\"Objective-C\",\"Dart\"]\n",
    "Back_end =[\"Ruby\", \"SQL\", \"Go\", \"Java\", \"Python\", \"Elixir\", \"Perl\", \"Groovy\", \"Scala\", \"Rust\", \"C#\", \"Erlang\", \"PHP\", \"Clojure\"]\n",
    "System =[\"Assembly\",\"C++\",\"C\",\"Rust\",\"Go\"]\n",
    "\n",
    "for i, person in salary.iterrows():\n",
    "    languages = person[\"LanguageHaveWorkedWith\"]\n",
    "    for language in languages:\n",
    "        if language in Front_end:\n",
    "            salary.at[i, \"Front-endLan\"] = salary.at[i, \"Front-endLan\"] +1\n",
    "        elif language in Back_end:\n",
    "            salary.at[i, \"Back-endLan\"] = salary.at[i, \"Back-endLan\"]+1\n",
    "        elif language in System:\n",
    "            salary.at[i, \"SysProLan\"] = salary.at[i, \"SysProLan\"]+1\n",
    "            \n",
    "salary.drop(columns=[\"LanguageHaveWorkedWith\"], inplace=True)  "
   ]
  }
 ],
 "metadata": {
  "kernelspec": {
   "display_name": "Python 3",
   "language": "python",
   "name": "python3"
  },
  "language_info": {
   "codemirror_mode": {
    "name": "ipython",
    "version": 3
   },
   "file_extension": ".py",
   "mimetype": "text/x-python",
   "name": "python",
   "nbconvert_exporter": "python",
   "pygments_lexer": "ipython3",
   "version": "3.12.0"
  }
 },
 "nbformat": 4,
 "nbformat_minor": 2
}
